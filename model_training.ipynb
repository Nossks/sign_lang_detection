{
  "cells": [
    {
      "cell_type": "markdown",
      "metadata": {
        "id": "_I8iGYL6G_oF"
      },
      "source": [
        "## Data load"
      ]
    },
    {
      "cell_type": "code",
      "execution_count": null,
      "metadata": {
        "id": "r3nxGzdfG_oH"
      },
      "outputs": [],
      "source": [
        "import pickle\n",
        "\n",
        "with open(\"/content/data.pickle\",\"rb\") as f:\n",
        "    data=pickle.load(f)"
      ]
    },
    {
      "cell_type": "code",
      "execution_count": null,
      "metadata": {
        "id": "oDFWcn3bG_oJ"
      },
      "outputs": [],
      "source": [
        "import numpy as np\n",
        "import pandas as pd\n",
        "import seaborn as sns\n",
        "import matplotlib.pyplot as plt"
      ]
    },
    {
      "cell_type": "code",
      "execution_count": null,
      "metadata": {
        "id": "NN97fueXG_oK"
      },
      "outputs": [],
      "source": [
        "df=pd.DataFrame(data)"
      ]
    },
    {
      "cell_type": "code",
      "execution_count": null,
      "metadata": {
        "id": "Z0kXtipJG_oK"
      },
      "outputs": [],
      "source": [
        "df.head(3)"
      ]
    },
    {
      "cell_type": "code",
      "execution_count": null,
      "metadata": {
        "id": "N3qLD3vvG_oM"
      },
      "outputs": [],
      "source": [
        "df[\"labels\"].unique()"
      ]
    },
    {
      "cell_type": "code",
      "execution_count": null,
      "metadata": {
        "id": "sRN2yA7CG_oM"
      },
      "outputs": [],
      "source": [
        "df[\"labels\"].value_counts()"
      ]
    },
    {
      "cell_type": "code",
      "execution_count": null,
      "metadata": {
        "colab": {
          "base_uri": "https://localhost:8080/"
        },
        "id": "sbZo0rr_G_oN",
        "outputId": "6b1a91a5-c6b4-44c6-d78d-7cc0ced605ad"
      },
      "outputs": [
        {
          "output_type": "execute_result",
          "data": {
            "text/plain": [
              "42"
            ]
          },
          "metadata": {},
          "execution_count": 12
        }
      ],
      "source": [
        "len(df.iloc[0][\"data\"])"
      ]
    },
    {
      "cell_type": "code",
      "execution_count": null,
      "metadata": {
        "id": "RMdxh6ZGG_oN"
      },
      "outputs": [],
      "source": [
        "A=df.iloc[0][\"data\"]\n",
        "plt.scatter(A[:21],A[21:],color=\"blue\")\n",
        "plt.plot(A[:21],A[21:],color=\"red\")\n",
        "plt.show()"
      ]
    },
    {
      "cell_type": "code",
      "execution_count": null,
      "metadata": {
        "id": "zVXMkllXG_oO"
      },
      "outputs": [],
      "source": [
        "A=df.iloc[1][\"data\"]\n",
        "plt.scatter(A[:21],A[21:],color=\"blue\")\n",
        "plt.plot(A[:21],A[21:],color=\"red\")\n",
        "plt.show()"
      ]
    },
    {
      "cell_type": "markdown",
      "metadata": {
        "id": "fDaK6f83G_oP"
      },
      "source": [
        "## train test split"
      ]
    },
    {
      "cell_type": "code",
      "execution_count": null,
      "metadata": {
        "id": "VSegSr7HG_oP"
      },
      "outputs": [],
      "source": [
        "X=df[[\"data\"]]"
      ]
    },
    {
      "cell_type": "code",
      "execution_count": null,
      "metadata": {
        "id": "jG5t768CG_oQ"
      },
      "outputs": [],
      "source": [
        "X=df[\"data\"].tolist()\n",
        "X=pd.DataFrame(X)\n",
        "y=df[\"labels\"]"
      ]
    },
    {
      "cell_type": "code",
      "execution_count": null,
      "metadata": {
        "id": "vrTZ3XIhG_oQ"
      },
      "outputs": [],
      "source": [
        "X.head(3)"
      ]
    },
    {
      "cell_type": "code",
      "execution_count": null,
      "metadata": {
        "id": "IfrjBxN6G_oR"
      },
      "outputs": [],
      "source": [
        "from sklearn.model_selection import train_test_split\n",
        "X_train,X_test,y_train,y_test=train_test_split(X,y,test_size=.30,random_state=3,stratify=y)"
      ]
    },
    {
      "cell_type": "markdown",
      "metadata": {
        "id": "QD10ynIEG_oT"
      },
      "source": [
        "## model training"
      ]
    },
    {
      "cell_type": "code",
      "execution_count": null,
      "metadata": {
        "id": "ycq5ZWjFG_oT"
      },
      "outputs": [],
      "source": [
        "from sklearn.metrics import accuracy_score,precision_score,f1_score\n",
        "\n",
        "def perform(name,true,pred):\n",
        "    print(f\"for model        --> {name}\")\n",
        "    print(f\"accuracy_score   --> {accuracy_score(true,pred)}\")\n",
        "    print(f\"precision_score  --> {precision_score(true,pred,average='macro')}\")\n",
        "    print(f\"F1_score         --> {f1_score(true,pred,average='macro')}\")\n",
        "    print(\"-\"*33)"
      ]
    },
    {
      "cell_type": "code",
      "execution_count": null,
      "metadata": {
        "id": "ceQxJNkpG_oT"
      },
      "outputs": [],
      "source": [
        "from sklearn.ensemble import RandomForestClassifier\n",
        "from sklearn.svm import SVC\n",
        "from sklearn.neighbors import KNeighborsClassifier\n",
        "\n",
        "models={\n",
        "    \"RandomForestClassifier\":RandomForestClassifier(),\n",
        "    \"SVC\":SVC(),\n",
        "    \"KNeighborsClassifier\":KNeighborsClassifier()\n",
        "}\n",
        "\n",
        "for name,model in models.items():\n",
        "    model.fit(X_train,y_train)\n",
        "    y_pred=model.predict(X_test)\n",
        "    perform(name,y_test,y_pred)"
      ]
    },
    {
      "cell_type": "markdown",
      "metadata": {
        "id": "F1XjkTr4UD1K"
      },
      "source": [
        "## Hyperparameter Tuning"
      ]
    },
    {
      "cell_type": "code",
      "execution_count": null,
      "metadata": {
        "id": "jGG6ih1tUDG7"
      },
      "outputs": [],
      "source": [
        "from sklearn.model_selection import RandomizedSearchCV\n",
        "\n",
        "para = {\n",
        "    \"n_estimators\":[10,20,50],\n",
        "    \"criterion\":[\"gini\",\"entropy\",\"log_loss\"],\n",
        "    \"max_depth\":[5,10,7,8],\n",
        "    \"max_features\" : [\"sqrt\", \"log2\", None]\n",
        "}\n",
        "\n",
        "model = RandomizedSearchCV(estimator=RandomForestClassifier(),param_distributions=para,scoring=\"accuracy\",refit=True,cv=5,verbose=1,error_score=\"raise\")\n",
        "\n",
        "model.fit(X_train,y_train)\n",
        "\n",
        "y_pred=model.predict(X_test)\n",
        "perform(name,y_test,y_pred)"
      ]
    },
    {
      "cell_type": "markdown",
      "metadata": {
        "id": "oHTa-QTplrvH"
      },
      "source": [
        "## model save"
      ]
    },
    {
      "cell_type": "code",
      "execution_count": null,
      "metadata": {
        "id": "xbGpl66DlsEg"
      },
      "outputs": [],
      "source": [
        "with open(\"model.pkl\",\"wb\") as f:\n",
        "    pickle.dump(model,f)\n",
        "    f.close()"
      ]
    }
  ],
  "metadata": {
    "colab": {
      "provenance": []
    },
    "kaggle": {
      "accelerator": "none",
      "dataSources": [
        {
          "datasetId": 6631432,
          "sourceId": 10700871,
          "sourceType": "datasetVersion"
        }
      ],
      "dockerImageVersionId": 30886,
      "isGpuEnabled": false,
      "isInternetEnabled": true,
      "language": "python",
      "sourceType": "notebook"
    },
    "kernelspec": {
      "display_name": "Python 3",
      "language": "python",
      "name": "python3"
    },
    "language_info": {
      "codemirror_mode": {
        "name": "ipython",
        "version": 3
      },
      "file_extension": ".py",
      "mimetype": "text/x-python",
      "name": "python",
      "nbconvert_exporter": "python",
      "pygments_lexer": "ipython3",
      "version": "3.10.12"
    }
  },
  "nbformat": 4,
  "nbformat_minor": 0
}